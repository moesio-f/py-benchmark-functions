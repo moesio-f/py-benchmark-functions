{
 "cells": [
  {
   "cell_type": "markdown",
   "id": "9e9d3591-ed0b-46ec-87f0-7fa98eb958e3",
   "metadata": {},
   "source": [
    "<h1 align=\"center\">\n",
    "  Python Benchmark Functions for Optimization\n",
    "</h1>\n",
    "\n",
    "[![Python](https://img.shields.io/pypi/pyversions/py_benchmark_functions.svg)](https://badge.fury.io/py/py_benchmark_functions)\n",
    "[![PyPI](https://badge.fury.io/py/py_benchmark_functions.svg)](https://badge.fury.io/py/py_benchmark_functions)\n",
    "[![Open in Colab](https://colab.research.google.com/assets/colab-badge.svg)](https://colab.research.google.com/github/moesio-f/moesio-f/py-benchmark-functions/blob/main/examples/intro.ipynb)\n",
    "\n",
    "[`py-benchamrk-functions`](https://github.com/moesio-f/py-benchmark-functions) is a simple library that provides benchmark functions for global optimization. It exposes implementations in major computing frameworks such as NumPy, TensorFlow and PyTorch. All implementations support `batch`-evaluation of coordinates, allowing for performatic evaluation of candidate solutions in the search space. The main goal of this library is to provide up-to-date implementations of multiple common benchmark functions in the scientific literature."
   ]
  },
  {
   "cell_type": "markdown",
   "id": "6b911a39-bde0-4707-890b-61bb490aef69",
   "metadata": {
    "jp-MarkdownHeadingCollapsed": true
   },
   "source": [
    "## Installation\n",
    "\n",
    "Start by installing the library using your preferred package manager:"
   ]
  },
  {
   "cell_type": "code",
   "execution_count": null,
   "id": "2b57d9b7-cfa5-43be-a30b-905f5de94397",
   "metadata": {},
   "outputs": [],
   "source": [
    "try:\n",
    "  import google.colab\n",
    "  %pip install --upgrade pip uv\n",
    "  !python -m uv pip install --reinstall py_benchmark_functions[tensorflow,torch]\n",
    "  print(\"\\033[31m [py_benchmark_functions] Restart runtime before proceeding.\")\n",
    "  exit(0)\n",
    "except ImportError:\n",
    "  pass"
   ]
  },
  {
   "cell_type": "code",
   "execution_count": null,
   "id": "2f710360-983b-4f9e-bbf3-f09ed8da80ca",
   "metadata": {},
   "outputs": [],
   "source": [
    "import py_benchmark_functions as bf\n",
    "\n",
    "print(bf.available_backends())\n",
    "# Output: {'numpy', 'tensorflow', 'torch'}\n",
    "\n",
    "print(bf.available_functions())\n",
    "# Output: ['Ackley', ..., 'Zakharov']"
   ]
  },
  {
   "cell_type": "markdown",
   "id": "c675b4cd-e633-48fb-95c9-34a9322c19bc",
   "metadata": {},
   "source": [
    "## Instantiating and using Functions\n",
    "\n",
    "The library is designed with the following entities:\n",
    "- [`core.Function`](py_benchmBohachevskyark_functions/core/function.py): class that represents a benchmark function. An instance of this class represents an instance of the becnmark function for a given domain ([`core.Domain`](py_benchmBohachevskyark_functions/core/function.py)) and number of dimensions/coordinates.\n",
    "- [`core.Transformation`](py_benchmBohachevskyark_functions/core/function.py): class that represents a _transformed_ (i.e., shifted, scaled, etc) function. It allows for programatically building new functions from existing ones.\n",
    "- [`core.Metadata`](py_benchmBohachevskyark_functions/core/metadata.py): class thata represent _metadata_ about a given function (i.e., known global optima, default search space, default parameters, etc). A transformation inherits such metadata from the base function."
   ]
  },
  {
   "cell_type": "markdown",
   "id": "710e71a8-eea5-4586-af7c-e7b0ceac2c21",
   "metadata": {},
   "source": [
    "The benchmark functions can be instantiated in 3 ways:\n",
    "\n",
    "1. Directly importing from `py_benchmark_functions.imp.{numpy,tensorflow,torch}` (e.g., `from py_benchmark_functions.imp.numpy import AckleyNumpy`);"
   ]
  },
  {
   "cell_type": "code",
   "execution_count": null,
   "id": "2f65f0be-2e6d-4f19-b784-a701a90ce33b",
   "metadata": {},
   "outputs": [],
   "source": [
    "from py_benchmark_functions.imp.numpy import AckleyNumpy\n",
    "\n",
    "fn = AckleyNumpy(dims=2)\n",
    "print(fn.name, fn.domain)\n",
    "print(fn.metadata)"
   ]
  },
  {
   "cell_type": "markdown",
   "id": "7a383176-33d3-4496-a67c-c4eba33b816e",
   "metadata": {},
   "source": [
    "2. Using the global `get_fn`, `get_np_function` or `get_tf_function` from `py_benchmark_functions`;"
   ]
  },
  {
   "cell_type": "code",
   "execution_count": null,
   "id": "4ad1cc4b-cdeb-47b0-b586-b4eae924a1e0",
   "metadata": {},
   "outputs": [],
   "source": [
    "import py_benchmark_functions as bf\n",
    "\n",
    "fn = bf.get_fn(\"Zakharov\", 2)\n",
    "print(fn, type(fn))\n",
    "\n",
    "fn1 = bf.get_np_function(\"Zakharov\", 2)\n",
    "print(fn1, type(fn1))\n",
    "\n",
    "fn2 = bf.get_tf_function(\"Zakharov\", 2)\n",
    "print(fn2, type(fn2))\n",
    "\n",
    "fn3 = bf.get_torch_function(\"Zakharov\", 2)\n",
    "print(fn3, type(fn3))"
   ]
  },
  {
   "cell_type": "markdown",
   "id": "06d842b5-fe9c-4f35-8a43-cf9413f77806",
   "metadata": {},
   "source": [
    "3. Using the [`Builder`](py_benchmBohachevskyark_functions/factory/builder.py) class;"
   ]
  },
  {
   "cell_type": "code",
   "execution_count": null,
   "id": "c912c80c-d7b1-489c-9172-9f3d20044f30",
   "metadata": {},
   "outputs": [],
   "source": [
    "from py_benchmark_functions import Builder\n",
    "\n",
    "fn = Builder().function(\"Alpine2\").dims(4).transform(vshift=1.0).tensorflow().build()\n",
    "print(fn, type(fn))"
   ]
  },
  {
   "cell_type": "markdown",
   "id": "aa7a22c2-176f-4032-9a50-35b004adb312",
   "metadata": {},
   "source": [
    "Regardless of how you get an instance of a function, all of them define the `__call__` method, which allows them to be called directly. Every `__call__` receives an `x` as argument (for NumPy, `x` should be an `np.ndarray`, for Tensorflow a `tf.Tensor`, and for PyTorch a `torch.Tensor`). The shape of `x` can either be `(batch_size, dims)` or `(dims,)`, while the output is `(batch_size,)` or `()` (a scalar). Those properties are illustrated below:"
   ]
  },
  {
   "cell_type": "code",
   "execution_count": null,
   "id": "704b662e-5cc4-4600-bbf6-c247bb8df8d9",
   "metadata": {},
   "outputs": [],
   "source": [
    "import py_benchmark_functions as bf\n",
    "import numpy as np\n",
    "\n",
    "fn = bf.get_fn(\"Ackley\", 2)\n",
    "x = np.array([0.0, 0.0], dtype=np.float32)\n",
    "\n",
    "print(fn(x))\n",
    "\n",
    "x = np.expand_dims(x, axis=0)\n",
    "print(x, fn(x))\n",
    "\n",
    "x = np.repeat(x, 3, axis=0)\n",
    "print(x, fn(x))"
   ]
  },
  {
   "cell_type": "markdown",
   "id": "c8153a79-acc9-4d12-b796-df503706826b",
   "metadata": {},
   "source": [
    "Additionally, for the `torch` and `tensorflow` backends, it is possible to use their `autograd` to differentiate any of the functions. Specifically, they expose the methods `.grads(x) -> Tensor` and `.grads_at(x) -> Tuple[Tensor, Tensor]` which returns the gradients for the input `x` and, for `grads_at`, the value of the function at `x` (in this order)."
   ]
  },
  {
   "cell_type": "code",
   "execution_count": null,
   "id": "818b9782-0ef4-4778-8fc1-aa7e1da2573b",
   "metadata": {},
   "outputs": [],
   "source": [
    "import torch\n",
    "\n",
    "fn = bf.get_torch_function(\"Ackley\", 2)\n",
    "x = torch.tensor([1.0, 2.0], dtype=torch.float32)\n",
    "\n",
    "print(fn(x))\n",
    "print(fn.grads(x))\n",
    "print(fn.grads_at(x))"
   ]
  },
  {
   "cell_type": "markdown",
   "id": "974c7e83-4771-4f51-a90c-834576f86d5a",
   "metadata": {},
   "source": [
    "Beware that some functions are not continuously differentiable, which might return `NaN`'s values! For the specifics of how those backends handle such cases one should refer to the respective official documentation (see [A Gentle Introduction to `torch.autograd`](https://docs.pytorch.org/tutorials/beginner/blitz/autograd_tutorial.html) and [Introduction to gradients and automatic differentiation](https://www.tensorflow.org/guide/autodiff))."
   ]
  },
  {
   "cell_type": "code",
   "execution_count": null,
   "id": "6a7c87dd-deb2-4164-b82e-db8a291a28f9",
   "metadata": {},
   "outputs": [],
   "source": [
    "x = torch.tensor([0.0, 0.0], dtype=torch.float32)\n",
    "\n",
    "print(fn.grads(x))\n",
    "print(fn.grads_at(x))"
   ]
  },
  {
   "cell_type": "markdown",
   "id": "f4a578a2-3546-4eb9-9b38-3b6e3192244b",
   "metadata": {},
   "source": [
    "## Plotting and Drawing\n",
    "\n",
    "Additionally, the [`Drawer`](py_benchmark_functions/plot/drawer.py) utility allows for plotting functions."
   ]
  },
  {
   "cell_type": "code",
   "execution_count": null,
   "id": "3c18d5cd-dbbe-48b1-be59-c99eae018e85",
   "metadata": {},
   "outputs": [],
   "source": [
    "from py_benchmark_functions.plot import Drawer\n",
    "\n",
    "drawer = Drawer(\"Ackley\")\n",
    "drawer.show()"
   ]
  },
  {
   "cell_type": "markdown",
   "id": "552a248d-d56e-480d-ba9f-1b146b3b69aa",
   "metadata": {},
   "source": [
    "It is also possible to define custom domains."
   ]
  },
  {
   "cell_type": "code",
   "execution_count": null,
   "id": "26702f66-f720-43dc-a4e7-07d7c71c92fb",
   "metadata": {},
   "outputs": [],
   "source": [
    "from py_benchmark_functions import Builder\n",
    "\n",
    "fn = Builder().function(\"Ackley\").dims(2).domain(domain_min=-1.0, domain_max=1.0).build()\n",
    "drawer = Drawer(fn)\n",
    "drawer.show()"
   ]
  }
 ],
 "metadata": {
  "kernelspec": {
   "display_name": "Python 3 (ipykernel)",
   "language": "python",
   "name": "python3"
  },
  "language_info": {
   "codemirror_mode": {
    "name": "ipython",
    "version": 3
   },
   "file_extension": ".py",
   "mimetype": "text/x-python",
   "name": "python",
   "nbconvert_exporter": "python",
   "pygments_lexer": "ipython3",
   "version": "3.12.10"
  }
 },
 "nbformat": 4,
 "nbformat_minor": 5
}
